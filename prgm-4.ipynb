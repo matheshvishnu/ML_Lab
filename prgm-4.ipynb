{
 "cells": [
  {
   "cell_type": "code",
   "execution_count": 1,
   "id": "39cbd31a",
   "metadata": {},
   "outputs": [
    {
     "name": "stdout",
     "output_type": "stream",
     "text": [
      "CSV file 'training_data.csv' has been successfully created!\n",
      "Training data:\n",
      "  Weather Temperature Humidity    Wind PlayTennis\n",
      "0   Sunny        Warm   Normal  Strong        Yes\n",
      "1   Sunny        Warm     High  Strong        Yes\n",
      "2   Rainy        Cold     High  Strong         No\n",
      "3   Sunny        Warm     High    Weak        Yes\n",
      "\n",
      " Final Hypothesis:\n",
      "['Sunny' 'Warm' '?' '?']\n"
     ]
    }
   ],
   "source": [
    "import pandas as pd\n",
    "data={\n",
    "    \"Weather\":[\"Sunny\",\"Sunny\",\"Rainy\",\"Sunny\"],\n",
    "    \"Temperature\":[\"Warm\",\"Warm\",\"Cold\",\"Warm\"],\n",
    "    \"Humidity\":[\"Normal\",\"High\",\"High\",\"High\"],\n",
    "    \"Wind\":[\"Strong\",\"Strong\",\"Strong\",\"Weak\"],\n",
    "    \"PlayTennis\":[\"Yes\",\"Yes\",\"No\",\"Yes\"]\n",
    "}\n",
    "df=pd.DataFrame(data)\n",
    "file_path=\"training_data.csv\"\n",
    "df.to_csv(file_path,index=False)\n",
    "print(f\"CSV file 'training_data.csv' has been successfully created!\")\n",
    "def find_s_algorithm(data):\n",
    "    features=data.iloc[:,:-1].values\n",
    "    labels=data.iloc[:,-1].values\n",
    "    hypothesis=None\n",
    "\n",
    "    for i,label in enumerate(labels):\n",
    "        if label==\"Yes\":\n",
    "            hypothesis=features[i].copy()\n",
    "            break\n",
    "            \n",
    "    if hypothesis is None:\n",
    "        return \"No positive examples found.\"\n",
    "    \n",
    "    for i,label in enumerate(labels):\n",
    "        if label==\"Yes\":\n",
    "            for j in range(len(hypothesis)):\n",
    "                if hypothesis[j]!=features[i][j]:\n",
    "                    hypothesis[j]='?'\n",
    "    return hypothesis\n",
    "file_path=\"training_data.csv\"\n",
    "data=pd.read_csv(file_path)\n",
    "print(\"Training data:\")\n",
    "print(data)\n",
    "final_hypothesis=find_s_algorithm(data)\n",
    "print(\"\\n Final Hypothesis:\")\n",
    "print(final_hypothesis)"
   ]
  },
  {
   "cell_type": "code",
   "execution_count": null,
   "id": "bab80dcf",
   "metadata": {},
   "outputs": [],
   "source": []
  }
 ],
 "metadata": {
  "kernelspec": {
   "display_name": "Python 3 (ipykernel)",
   "language": "python",
   "name": "python3"
  },
  "language_info": {
   "codemirror_mode": {
    "name": "ipython",
    "version": 3
   },
   "file_extension": ".py",
   "mimetype": "text/x-python",
   "name": "python",
   "nbconvert_exporter": "python",
   "pygments_lexer": "ipython3",
   "version": "3.9.13"
  }
 },
 "nbformat": 4,
 "nbformat_minor": 5
}
